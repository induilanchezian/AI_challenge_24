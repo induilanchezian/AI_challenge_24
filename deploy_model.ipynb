{
 "cells": [
  {
   "cell_type": "code",
   "execution_count": 1,
   "id": "6f1b633d-9f81-4811-baf5-6143aa01651e",
   "metadata": {},
   "outputs": [],
   "source": [
    "import os\n",
    "import json\n",
    "import requests\n",
    "\n",
    "from azureml.core import Workspace\n",
    "from azureml.core.model import Model\n",
    "from azureml.core.environment import Environment\n",
    "from azureml.core.conda_dependencies import CondaDependencies\n",
    "from azureml.core.model import InferenceConfig\n",
    "from azureml.core.webservice import AciWebservice, Webservice"
   ]
  },
  {
   "cell_type": "code",
   "execution_count": 2,
   "id": "b7771c88-2f89-44eb-9ee9-92aa17ddef41",
   "metadata": {},
   "outputs": [],
   "source": [
    "subscription_id = '7a246175-8f45-456f-8c2b-3b97f145a427'\n",
    "resource_group = 'rg-dps-ai'  \n",
    "workspace_name = 'aml_ws_ml_forecasting'\n",
    "region = 'northeurope'"
   ]
  },
  {
   "cell_type": "code",
   "execution_count": 3,
   "id": "4d34b4da-635f-4b2b-9df5-48d8b7246151",
   "metadata": {},
   "outputs": [
    {
     "name": "stdout",
     "output_type": "stream",
     "text": [
      "Deploying StorageAccount with name amlwsmlfstorage7c6ae7390.\n",
      "Deploying KeyVault with name amlwsmlfkeyvaulte45c3988.\n",
      "Deploying AppInsights with name amlwsmlfinsights80dbecfb.\n",
      "Deployed AppInsights with name amlwsmlfinsights80dbecfb. Took 2.52 seconds.\n",
      "Deployed KeyVault with name amlwsmlfkeyvaulte45c3988. Took 18.8 seconds.\n",
      "Deploying Workspace with name aml_ws_ml_forecasting.\n",
      "Deployed StorageAccount with name amlwsmlfstorage7c6ae7390. Took 23.0 seconds.\n",
      "Deployed Workspace with name aml_ws_ml_forecasting. Took 38.47 seconds.\n",
      "Workspace aml_ws_ml_forecasting created\n"
     ]
    }
   ],
   "source": [
    "ws = Workspace.create(name=workspace_name,\n",
    "                      subscription_id=subscription_id,\n",
    "                      resource_group=resource_group,\n",
    "                      location=region)\n",
    "\n",
    "print(f'Workspace {workspace_name} created')"
   ]
  },
  {
   "cell_type": "code",
   "execution_count": 4,
   "id": "a3812940-c79e-4ac5-80c2-a4ca9e9a7df6",
   "metadata": {},
   "outputs": [],
   "source": [
    "# ws = Workspace(subscription_id,\n",
    "#                resource_group,\n",
    "#                workspace_name\n",
    "#               )"
   ]
  },
  {
   "cell_type": "code",
   "execution_count": 4,
   "id": "9c6774b1-763d-411d-b073-c5e74e56486d",
   "metadata": {},
   "outputs": [],
   "source": [
    "model_file = 'forecast.pkl'\n",
    "model_name = 'accident_forecasting_model'"
   ]
  },
  {
   "cell_type": "code",
   "execution_count": 5,
   "id": "cbca2e1e-adc0-406e-a70d-a7e4515b36ce",
   "metadata": {},
   "outputs": [
    {
     "name": "stdout",
     "output_type": "stream",
     "text": [
      "Registering model accident_forecasting_model\n"
     ]
    }
   ],
   "source": [
    "registered_model = Model.register(model_path=model_file, model_name=model_name, workspace=ws)"
   ]
  },
  {
   "cell_type": "code",
   "execution_count": 6,
   "id": "425dfe3f-a660-457e-88e7-a691ec9f8397",
   "metadata": {},
   "outputs": [],
   "source": [
    "# env = Environment('forecast-env')\n",
    "# conda_packages = ['numpy']\n",
    "# pip_packages = ['statsmodels', 'joblib', 'json', 'azureml-sdk', 'azureml-defaults']\n",
    "# env.python.conda_dependencies = CondaDependencies.create(conda_packages=conda_packages, pip_packages=pip_packages, python_version='3.9.19')"
   ]
  },
  {
   "cell_type": "code",
   "execution_count": 8,
   "id": "45d7bb51-0c40-49c7-97a7-2807c44accb9",
   "metadata": {},
   "outputs": [
    {
     "name": "stdout",
     "output_type": "stream",
     "text": [
      "Exporting conda specifications for existing conda environment: dps_env\n"
     ]
    }
   ],
   "source": [
    "# env = Environment.from_existing_conda_environment('test', 'dps_env')"
   ]
  },
  {
   "cell_type": "code",
   "execution_count": 6,
   "id": "ef3afc77-f107-42e1-abb3-70f027430b2c",
   "metadata": {},
   "outputs": [],
   "source": [
    "# Create a Conda environment for your scikit-learn model\n",
    "conda_env = Environment('my-conda-env')\n",
    "# conda_env.python.conda_dependencies = CondaDependencies.create(conda_packages=['scikit-learn'], pip_packages=['statsmodels', 'azureml-defaults'])\n",
    "conda_env.python.conda_dependencies = CondaDependencies.create(conda_packages=['scikit-learn'])"
   ]
  },
  {
   "cell_type": "code",
   "execution_count": 7,
   "id": "5e906b56-b4e3-45f6-86da-f16c8fd31577",
   "metadata": {},
   "outputs": [],
   "source": [
    "inference_config = InferenceConfig(entry_script='score.py', environment=conda_env)"
   ]
  },
  {
   "cell_type": "code",
   "execution_count": 8,
   "id": "e5b1602f-ce65-4fe7-8223-9e9079d38f7b",
   "metadata": {},
   "outputs": [],
   "source": [
    "aci_config = AciWebservice.deploy_configuration(cpu_cores=1, memory_gb=1)"
   ]
  },
  {
   "cell_type": "code",
   "execution_count": 9,
   "id": "1fe9b50f-80e0-42d6-a3ee-683a8b085226",
   "metadata": {},
   "outputs": [
    {
     "name": "stderr",
     "output_type": "stream",
     "text": [
      "/var/folders/j0/n9qvdq0943xfl84fpbb8p5fr0000gn/T/ipykernel_5604/4244907278.py:1: FutureWarning: azureml.core.model:\n",
      "To leverage new model deployment capabilities, AzureML recommends using CLI/SDK v2 to deploy models as online endpoint, \n",
      "please refer to respective documentations \n",
      "https://docs.microsoft.com/azure/machine-learning/how-to-deploy-managed-online-endpoints /\n",
      "https://docs.microsoft.com/azure/machine-learning/how-to-attach-kubernetes-anywhere \n",
      "For more information on migration, see https://aka.ms/acimoemigration \n",
      "To disable CLI/SDK v1 deprecation warning set AZUREML_LOG_DEPRECATION_WARNING_ENABLED to 'False'\n",
      "  service = Model.deploy(workspace=ws,\n"
     ]
    },
    {
     "name": "stdout",
     "output_type": "stream",
     "text": [
      "Tips: You can try get_logs(): https://aka.ms/debugimage#dockerlog or local deployment: https://aka.ms/debugimage#debug-locally to debug if deployment takes longer than 10 minutes.\n",
      "Running\n",
      "2024-06-27 17:35:46+02:00 Creating Container Registry if not exists..\n",
      "2024-06-27 17:45:46+02:00 Registering the environment.\n",
      "2024-06-27 17:45:48+02:00 Building image..\n",
      "2024-06-27 17:54:02+02:00 Generating deployment configuration.\n",
      "2024-06-27 17:54:03+02:00 Submitting deployment to compute..\n",
      "2024-06-27 17:54:08+02:00 Checking the status of deployment forecasting-service..\n",
      "2024-06-27 17:55:32+02:00 Checking the status of inference endpoint forecasting-service.\n",
      "Failed\n"
     ]
    },
    {
     "name": "stderr",
     "output_type": "stream",
     "text": [
      "Service deployment polling reached non-successful terminal state, current service state: Unhealthy\n",
      "Operation ID: f6f07bab-50cc-4ef9-812a-94deafc8f889\n",
      "More information can be found using '.get_logs()'\n",
      "Error:\n",
      "{\n",
      "  \"code\": \"AciDeploymentFailed\",\n",
      "  \"statusCode\": 400,\n",
      "  \"message\": \"Aci Deployment failed with exception: Error in entry script, ModuleNotFoundError: No module named 'statsmodels', please run print(service.get_logs()) to get details.\",\n",
      "  \"details\": [\n",
      "    {\n",
      "      \"code\": \"CrashLoopBackOff\",\n",
      "      \"message\": \"Error in entry script, ModuleNotFoundError: No module named 'statsmodels', please run print(service.get_logs()) to get details.\"\n",
      "    }\n",
      "  ]\n",
      "}\n",
      "\n"
     ]
    },
    {
     "ename": "WebserviceException",
     "evalue": "WebserviceException:\n\tMessage: Service deployment polling reached non-successful terminal state, current service state: Unhealthy\nOperation ID: f6f07bab-50cc-4ef9-812a-94deafc8f889\nMore information can be found using '.get_logs()'\nError:\n{\n  \"code\": \"AciDeploymentFailed\",\n  \"statusCode\": 400,\n  \"message\": \"Aci Deployment failed with exception: Error in entry script, ModuleNotFoundError: No module named 'statsmodels', please run print(service.get_logs()) to get details.\",\n  \"details\": [\n    {\n      \"code\": \"CrashLoopBackOff\",\n      \"message\": \"Error in entry script, ModuleNotFoundError: No module named 'statsmodels', please run print(service.get_logs()) to get details.\"\n    }\n  ]\n}\n\tInnerException None\n\tErrorResponse \n{\n    \"error\": {\n        \"message\": \"Service deployment polling reached non-successful terminal state, current service state: Unhealthy\\nOperation ID: f6f07bab-50cc-4ef9-812a-94deafc8f889\\nMore information can be found using '.get_logs()'\\nError:\\n{\\n  \\\"code\\\": \\\"AciDeploymentFailed\\\",\\n  \\\"statusCode\\\": 400,\\n  \\\"message\\\": \\\"Aci Deployment failed with exception: Error in entry script, ModuleNotFoundError: No module named 'statsmodels', please run print(service.get_logs()) to get details.\\\",\\n  \\\"details\\\": [\\n    {\\n      \\\"code\\\": \\\"CrashLoopBackOff\\\",\\n      \\\"message\\\": \\\"Error in entry script, ModuleNotFoundError: No module named 'statsmodels', please run print(service.get_logs()) to get details.\\\"\\n    }\\n  ]\\n}\"\n    }\n}",
     "output_type": "error",
     "traceback": [
      "\u001b[0;31m---------------------------------------------------------------------------\u001b[0m",
      "\u001b[0;31mWebserviceException\u001b[0m                       Traceback (most recent call last)",
      "Cell \u001b[0;32mIn[9], line 6\u001b[0m\n\u001b[1;32m      1\u001b[0m service \u001b[38;5;241m=\u001b[39m Model\u001b[38;5;241m.\u001b[39mdeploy(workspace\u001b[38;5;241m=\u001b[39mws,\n\u001b[1;32m      2\u001b[0m                        name\u001b[38;5;241m=\u001b[39m\u001b[38;5;124m'\u001b[39m\u001b[38;5;124mforecasting-service\u001b[39m\u001b[38;5;124m'\u001b[39m,\n\u001b[1;32m      3\u001b[0m                        models\u001b[38;5;241m=\u001b[39m[registered_model],\n\u001b[1;32m      4\u001b[0m                        inference_config\u001b[38;5;241m=\u001b[39minference_config,\n\u001b[1;32m      5\u001b[0m                        deployment_config\u001b[38;5;241m=\u001b[39maci_config)\n\u001b[0;32m----> 6\u001b[0m \u001b[43mservice\u001b[49m\u001b[38;5;241;43m.\u001b[39;49m\u001b[43mwait_for_deployment\u001b[49m\u001b[43m(\u001b[49m\u001b[43mshow_output\u001b[49m\u001b[38;5;241;43m=\u001b[39;49m\u001b[38;5;28;43;01mTrue\u001b[39;49;00m\u001b[43m)\u001b[49m\n",
      "File \u001b[0;32m~/opt/anaconda3/envs/dps_env/lib/python3.9/site-packages/azureml/core/webservice/webservice.py:914\u001b[0m, in \u001b[0;36mWebservice.wait_for_deployment\u001b[0;34m(self, show_output, timeout_sec)\u001b[0m\n\u001b[1;32m    911\u001b[0m         \u001b[38;5;28;01mif\u001b[39;00m \u001b[38;5;129;01mnot\u001b[39;00m logs_response:\n\u001b[1;32m    912\u001b[0m             logs_response \u001b[38;5;241m=\u001b[39m \u001b[38;5;124m'\u001b[39m\u001b[38;5;124mCurrent sub-operation type not known, more logs unavailable.\u001b[39m\u001b[38;5;124m'\u001b[39m\n\u001b[0;32m--> 914\u001b[0m         \u001b[38;5;28;01mraise\u001b[39;00m WebserviceException(\u001b[38;5;124m'\u001b[39m\u001b[38;5;124mService deployment polling reached non-successful terminal state, current \u001b[39m\u001b[38;5;124m'\u001b[39m\n\u001b[1;32m    915\u001b[0m                                   \u001b[38;5;124m'\u001b[39m\u001b[38;5;124mservice state: \u001b[39m\u001b[38;5;132;01m{}\u001b[39;00m\u001b[38;5;130;01m\\n\u001b[39;00m\u001b[38;5;124m'\u001b[39m\n\u001b[1;32m    916\u001b[0m                                   \u001b[38;5;124m'\u001b[39m\u001b[38;5;124mOperation ID: \u001b[39m\u001b[38;5;132;01m{}\u001b[39;00m\u001b[38;5;130;01m\\n\u001b[39;00m\u001b[38;5;124m'\u001b[39m\n\u001b[1;32m    917\u001b[0m                                   \u001b[38;5;124m'\u001b[39m\u001b[38;5;132;01m{}\u001b[39;00m\u001b[38;5;130;01m\\n\u001b[39;00m\u001b[38;5;124m'\u001b[39m\n\u001b[1;32m    918\u001b[0m                                   \u001b[38;5;124m'\u001b[39m\u001b[38;5;124mError:\u001b[39m\u001b[38;5;130;01m\\n\u001b[39;00m\u001b[38;5;124m'\u001b[39m\n\u001b[1;32m    919\u001b[0m                                   \u001b[38;5;124m'\u001b[39m\u001b[38;5;132;01m{}\u001b[39;00m\u001b[38;5;124m'\u001b[39m\u001b[38;5;241m.\u001b[39mformat(\u001b[38;5;28mself\u001b[39m\u001b[38;5;241m.\u001b[39mstate, \u001b[38;5;28mself\u001b[39m\u001b[38;5;241m.\u001b[39m_operation_endpoint\u001b[38;5;241m.\u001b[39msplit(\u001b[38;5;124m'\u001b[39m\u001b[38;5;124m/\u001b[39m\u001b[38;5;124m'\u001b[39m)[\u001b[38;5;241m-\u001b[39m\u001b[38;5;241m1\u001b[39m],\n\u001b[1;32m    920\u001b[0m                                               logs_response, format_error_response), logger\u001b[38;5;241m=\u001b[39mmodule_logger)\n\u001b[1;32m    921\u001b[0m     \u001b[38;5;28mprint\u001b[39m(\u001b[38;5;124m'\u001b[39m\u001b[38;5;132;01m{}\u001b[39;00m\u001b[38;5;124m service creation operation finished, operation \u001b[39m\u001b[38;5;124m\"\u001b[39m\u001b[38;5;132;01m{}\u001b[39;00m\u001b[38;5;124m\"\u001b[39m\u001b[38;5;124m'\u001b[39m\u001b[38;5;241m.\u001b[39mformat(\u001b[38;5;28mself\u001b[39m\u001b[38;5;241m.\u001b[39m_webservice_type,\n\u001b[1;32m    922\u001b[0m                                                                           operation_state))\n\u001b[1;32m    923\u001b[0m \u001b[38;5;28;01mexcept\u001b[39;00m WebserviceException \u001b[38;5;28;01mas\u001b[39;00m e:\n",
      "\u001b[0;31mWebserviceException\u001b[0m: WebserviceException:\n\tMessage: Service deployment polling reached non-successful terminal state, current service state: Unhealthy\nOperation ID: f6f07bab-50cc-4ef9-812a-94deafc8f889\nMore information can be found using '.get_logs()'\nError:\n{\n  \"code\": \"AciDeploymentFailed\",\n  \"statusCode\": 400,\n  \"message\": \"Aci Deployment failed with exception: Error in entry script, ModuleNotFoundError: No module named 'statsmodels', please run print(service.get_logs()) to get details.\",\n  \"details\": [\n    {\n      \"code\": \"CrashLoopBackOff\",\n      \"message\": \"Error in entry script, ModuleNotFoundError: No module named 'statsmodels', please run print(service.get_logs()) to get details.\"\n    }\n  ]\n}\n\tInnerException None\n\tErrorResponse \n{\n    \"error\": {\n        \"message\": \"Service deployment polling reached non-successful terminal state, current service state: Unhealthy\\nOperation ID: f6f07bab-50cc-4ef9-812a-94deafc8f889\\nMore information can be found using '.get_logs()'\\nError:\\n{\\n  \\\"code\\\": \\\"AciDeploymentFailed\\\",\\n  \\\"statusCode\\\": 400,\\n  \\\"message\\\": \\\"Aci Deployment failed with exception: Error in entry script, ModuleNotFoundError: No module named 'statsmodels', please run print(service.get_logs()) to get details.\\\",\\n  \\\"details\\\": [\\n    {\\n      \\\"code\\\": \\\"CrashLoopBackOff\\\",\\n      \\\"message\\\": \\\"Error in entry script, ModuleNotFoundError: No module named 'statsmodels', please run print(service.get_logs()) to get details.\\\"\\n    }\\n  ]\\n}\"\n    }\n}"
     ]
    }
   ],
   "source": [
    "service = Model.deploy(workspace=ws,\n",
    "                       name='forecasting-service',\n",
    "                       models=[registered_model],\n",
    "                       inference_config=inference_config,\n",
    "                       deployment_config=aci_config)\n",
    "service.wait_for_deployment(show_output=True)"
   ]
  },
  {
   "cell_type": "code",
   "execution_count": 13,
   "id": "142a8feb-a906-4b63-a03a-5c09015dcd77",
   "metadata": {},
   "outputs": [
    {
     "name": "stdout",
     "output_type": "stream",
     "text": [
      "None\n"
     ]
    }
   ],
   "source": [
    "print(service.get_logs())"
   ]
  },
  {
   "cell_type": "code",
   "execution_count": 14,
   "id": "9e65ec1d-c758-4647-84e3-48f0821af4d1",
   "metadata": {},
   "outputs": [
    {
     "data": {
      "text/plain": [
       "AciWebservice(workspace=Workspace.create(name='aml_ws_forecast', subscription_id='7a246175-8f45-456f-8c2b-3b97f145a427', resource_group='rg-dps-ai'), name=forecasting-service, image_id=None, image_digest=None, compute_type=ACI, state=Unhealthy, scoring_uri=http://810dce4e-2ff2-4967-8d72-ef0d814d4aa8.northeurope.azurecontainer.io/score, tags={}, properties={'azureml.git.repository_uri': 'git@github.com:induilanchezian/AI_challenge_24.git', 'mlflow.source.git.repoURL': 'git@github.com:induilanchezian/AI_challenge_24.git', 'azureml.git.branch': 'main', 'mlflow.source.git.branch': 'main', 'azureml.git.commit': '3e6a5c95a2be1b08b106cb2f653d75506a09ad7d', 'mlflow.source.git.commit': '3e6a5c95a2be1b08b106cb2f653d75506a09ad7d', 'azureml.git.dirty': 'True', 'hasInferenceSchema': 'False', 'hasHttps': 'False', 'authEnabled': 'False'}, created_by={'userObjectId': 'f63b62b2-69d5-4af4-af78-f9648abd8f8d', 'userPuId': '100320039B136511', 'userIdp': 'live.com', 'userAltSecId': '1:live.com:0003BFFD7F2C02B1', 'userIss': 'https://sts.windows.net/6451b239-ced4-4496-8c9b-a7a521f2df30/', 'userTenantId': '6451b239-ced4-4496-8c9b-a7a521f2df30', 'userName': 'Nishanth Kandaswamy Subramanian', 'upn': None})"
      ]
     },
     "execution_count": 14,
     "metadata": {},
     "output_type": "execute_result"
    }
   ],
   "source": [
    "service"
   ]
  },
  {
   "cell_type": "code",
   "execution_count": 15,
   "id": "b25ea16c-6553-4093-990d-de9006313d69",
   "metadata": {},
   "outputs": [
    {
     "data": {
      "text/plain": [
       "'http://810dce4e-2ff2-4967-8d72-ef0d814d4aa8.northeurope.azurecontainer.io/score'"
      ]
     },
     "execution_count": 15,
     "metadata": {},
     "output_type": "execute_result"
    }
   ],
   "source": [
    "scoring_uri = service.scoring_uri\n",
    "scoring_uri"
   ]
  },
  {
   "cell_type": "code",
   "execution_count": null,
   "id": "960b824b-cc43-4200-be54-1812f64265c8",
   "metadata": {},
   "outputs": [],
   "source": []
  },
  {
   "cell_type": "code",
   "execution_count": 17,
   "id": "e23ebe45-f6ac-43fd-b32c-e3e875e15702",
   "metadata": {},
   "outputs": [
    {
     "name": "stdout",
     "output_type": "stream",
     "text": [
      "Error: Post \"http://localhost:5001/score\": dial tcp 127.0.0.1:5001: connect: connection refused\n"
     ]
    }
   ],
   "source": [
    "import requests\n",
    "import json\n",
    "\n",
    "# # Define the input data as a list\n",
    "# input_data = [5,166,72,19,175,25.8,0.587,51]\n",
    "\n",
    "\n",
    "# # Convert the input data to a JSON string\n",
    "# input_data_json = json.dumps({\"data\": [input_data]})\n",
    "\n",
    "input_data_json = json.dumps({\"year\": \"2021\", \"month\": \"10\"})\n",
    "\n",
    "# Replace with the URL of your deployed service\n",
    "scoring_uri = 'http://810dce4e-2ff2-4967-8d72-ef0d814d4aa8.northeurope.azurecontainer.io/score'  \n",
    "\n",
    "# Define the content type\n",
    "headers = {\"Content-Type\": \"application/json\"}\n",
    "\n",
    "# Send an HTTP POST request to the endpoint\n",
    "response = requests.post(scoring_uri, data=input_data_json, headers=headers)\n",
    "\n",
    "# Check the response status code\n",
    "if response.status_code == 200:\n",
    "    # Parse the JSON response\n",
    "    result = json.loads(response.json())\n",
    "    print(result)\n",
    "    # Extract the prediction (result) from the response\n",
    "    prediction = result[\"Prediction\"][0]\n",
    "    print(f\"Prediction: {prediction}\")\n",
    "else:\n",
    "    print(f\"Error: {response.text}\")"
   ]
  },
  {
   "cell_type": "code",
   "execution_count": null,
   "id": "e254a886-8a43-4251-bd34-899c87255aae",
   "metadata": {},
   "outputs": [],
   "source": []
  },
  {
   "cell_type": "code",
   "execution_count": null,
   "id": "ffc37725-ed4d-4204-851a-85dc0c6e11f3",
   "metadata": {},
   "outputs": [],
   "source": []
  },
  {
   "cell_type": "code",
   "execution_count": null,
   "id": "4c5d7edf-d726-47be-992f-8b00b62b17fe",
   "metadata": {},
   "outputs": [],
   "source": []
  },
  {
   "cell_type": "code",
   "execution_count": null,
   "id": "abecf5eb-89c8-4598-b895-d7b601c11255",
   "metadata": {},
   "outputs": [],
   "source": []
  },
  {
   "cell_type": "code",
   "execution_count": 25,
   "id": "6c408871-7582-42ac-a861-1dc3a6bc5e6d",
   "metadata": {},
   "outputs": [],
   "source": [
    "from azureml.core.model import Model"
   ]
  },
  {
   "cell_type": "markdown",
   "id": "536ca3a2-84b9-4c1c-80fb-4bcf09069955",
   "metadata": {},
   "source": [
    "## Deleting"
   ]
  },
  {
   "cell_type": "code",
   "execution_count": 10,
   "id": "67d3fa31-d05d-4c1c-90a3-cee0ff066d41",
   "metadata": {},
   "outputs": [
    {
     "name": "stdout",
     "output_type": "stream",
     "text": [
      "Running\n",
      "2024-06-27 19:08:13+02:00 Check and wait for operation (f6f07bab-50cc-4ef9-812a-94deafc8f889) to finish.\n",
      "2024-06-27 19:08:16+02:00 Deleting service entity.\n",
      "Succeeded\n"
     ]
    }
   ],
   "source": [
    "# Delete the service\n",
    "\n",
    "service_name = \"forecasting-service\"\n",
    "\n",
    "service = ws.webservices[service_name]\n",
    "service.delete()"
   ]
  },
  {
   "cell_type": "code",
   "execution_count": 11,
   "id": "071d91fe-a25d-41d3-be61-054e08d4b75c",
   "metadata": {},
   "outputs": [],
   "source": [
    "# Specify the name of the registered model to delete\n",
    "model_name = 'accident_forecasting_model'\n",
    "\n",
    "# Delete the model\n",
    "registered_model = ws.models[model_name]\n",
    "registered_model.delete()"
   ]
  },
  {
   "cell_type": "code",
   "execution_count": null,
   "id": "80d92840-d366-440e-86c9-03cb1c807dd1",
   "metadata": {},
   "outputs": [],
   "source": [
    "# Delete the workspace\n",
    "ws.delete(delete_dependent_resources=True)"
   ]
  },
  {
   "cell_type": "code",
   "execution_count": null,
   "id": "4bf609ca-8450-4ee2-9661-d15cef46d118",
   "metadata": {},
   "outputs": [],
   "source": []
  }
 ],
 "metadata": {
  "kernelspec": {
   "display_name": "dps_env",
   "language": "python",
   "name": "dps_env"
  },
  "language_info": {
   "codemirror_mode": {
    "name": "ipython",
    "version": 3
   },
   "file_extension": ".py",
   "mimetype": "text/x-python",
   "name": "python",
   "nbconvert_exporter": "python",
   "pygments_lexer": "ipython3",
   "version": "3.9.19"
  }
 },
 "nbformat": 4,
 "nbformat_minor": 5
}
